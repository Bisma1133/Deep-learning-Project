{
 "cells": [
  {
   "cell_type": "code",
   "id": "ccb2cf57",
   "metadata": {
    "ExecuteTime": {
     "end_time": "2024-05-20T00:31:54.257723Z",
     "start_time": "2024-05-20T00:31:00.295353Z"
    }
   },
   "source": [
    "import os\n",
    "import cv2\n",
    "import torch\n",
    "import pandas as pd\n",
    "import torch.nn as nn\n",
    "import albumentations\n",
    "import matplotlib.pyplot as plt\n",
    "\n",
    "\n",
    "from train import train\n",
    "from source.network import ConvRNN\n",
    "from utils import load_obj, save_obj\n",
    "from source.dataset import TRSynthDataset\n",
    "from sklearn.model_selection import train_test_split\n",
    "\n",
    "%matplotlib inline"
   ],
   "outputs": [],
   "execution_count": 1
  },
  {
   "metadata": {
    "ExecuteTime": {
     "end_time": "2024-05-20T00:41:56.776531Z",
     "start_time": "2024-05-20T00:41:56.598111Z"
    }
   },
   "cell_type": "code",
   "source": [
    "epochs = 100\n",
    "batch_size = 32\n",
    "model_path = \"models/model.pth\"\n",
    "char2int_path = \"data/char2int.pkl\"\n",
    "int2char_path = \"data/int2char.pkl\"\n",
    "data_file_path = \"data/data_file.csv\"\n",
    "image_path = \"data/images\"\n",
    "label_path = \"data/labels.txt\""
   ],
   "id": "c583f5b3de1b81ad",
   "outputs": [],
   "execution_count": 2
  },
  {
   "cell_type": "markdown",
   "id": "247447b6",
   "metadata": {},
   "source": [
    "### Inspect some images"
   ]
  },
  {
   "cell_type": "code",
   "id": "92de90d8",
   "metadata": {
    "ExecuteTime": {
     "end_time": "2024-05-20T00:42:01.308392Z",
     "start_time": "2024-05-20T00:41:59.254875Z"
    }
   },
   "source": [
    "img = plt.imread(os.path.join(image_path,\"00000008.jpg\"))\n",
    "plt.imshow(img)\n",
    "plt.show()"
   ],
   "outputs": [
    {
     "data": {
      "text/plain": [
       "<Figure size 640x480 with 1 Axes>"
      ],
      "image/png": "[encoded data removed]"
     },
     "metadata": {},
     "output_type": "display_data"
    }
   ],
   "execution_count": 3
  },
  {
   "cell_type": "markdown",
   "id": "1c3248d9",
   "metadata": {},
   "source": [
    "### Check corresponding label"
   ]
  },
  {
   "cell_type": "code",
   "id": "1876e18b",
   "metadata": {
    "ExecuteTime": {
     "end_time": "2024-05-20T00:42:02.798248Z",
     "start_time": "2024-05-20T00:42:02.645409Z"
    }
   },
   "source": [
    "labels = pd.read_table(label_path, header=None)"
   ],
   "outputs": [],
   "execution_count": 4
  },
  {
   "cell_type": "code",
   "id": "97964bf4",
   "metadata": {
    "ExecuteTime": {
     "end_time": "2024-05-20T00:42:04.812986Z",
     "start_time": "2024-05-20T00:42:04.750762Z"
    }
   },
   "source": [
    "labels.head()"
   ],
   "outputs": [
    {
     "data": {
      "text/plain": [
       "         0\n",
       "0     life\n",
       "1      not\n",
       "2    while\n",
       "3     know\n",
       "4  clearly"
      ],
      "text/html": [
       "<div>\n",
       "<style scoped>\n",
       "    .dataframe tbody tr th:only-of-type {\n",
       "        vertical-align: middle;\n",
       "    }\n",
       "\n",
       "    .dataframe tbody tr th {\n",
       "        vertical-align: top;\n",
       "    }\n",
       "\n",
       "    .dataframe thead th {\n",
       "        text-align: right;\n",
       "    }\n",
       "</style>\n",
       "<table border=\"1\" class=\"dataframe\">\n",
       "  <thead>\n",
       "    <tr style=\"text-align: right;\">\n",
       "      <th></th>\n",
       "      <th>0</th>\n",
       "    </tr>\n",
       "  </thead>\n",
       "  <tbody>\n",
       "    <tr>\n",
       "      <th>0</th>\n",
       "      <td>life</td>\n",
       "    </tr>\n",
       "    <tr>\n",
       "      <th>1</th>\n",
       "      <td>not</td>\n",
       "    </tr>\n",
       "    <tr>\n",
       "      <th>2</th>\n",
       "      <td>while</td>\n",
       "    </tr>\n",
       "    <tr>\n",
       "      <th>3</th>\n",
       "      <td>know</td>\n",
       "    </tr>\n",
       "    <tr>\n",
       "      <th>4</th>\n",
       "      <td>clearly</td>\n",
       "    </tr>\n",
       "  </tbody>\n",
       "</table>\n",
       "</div>"
      ]
     },
     "execution_count": 5,
     "metadata": {},
     "output_type": "execute_result"
    }
   ],
   "execution_count": 5
  },
  {
   "cell_type": "code",
   "id": "f9e03d58",
   "metadata": {
    "ExecuteTime": {
     "end_time": "2024-05-20T00:42:06.775382Z",
     "start_time": "2024-05-20T00:42:06.758381Z"
    }
   },
   "source": "labels.iloc[1,0]",
   "outputs": [
    {
     "data": {
      "text/plain": [
       "'not'"
      ]
     },
     "execution_count": 6,
     "metadata": {},
     "output_type": "execute_result"
    }
   ],
   "execution_count": 6
  },
  {
   "cell_type": "code",
   "id": "5be877db",
   "metadata": {
    "ExecuteTime": {
     "end_time": "2024-05-20T00:42:08.148284Z",
     "start_time": "2024-05-20T00:42:08.133869Z"
    }
   },
   "source": [
    "labels.shape"
   ],
   "outputs": [
    {
     "data": {
      "text/plain": [
       "(100000, 1)"
      ]
     },
     "execution_count": 7,
     "metadata": {},
     "output_type": "execute_result"
    }
   ],
   "execution_count": 7
  },
  {
   "cell_type": "markdown",
   "id": "d521520e",
   "metadata": {},
   "source": [
    "### Total number of images"
   ]
  },
  {
   "cell_type": "code",
   "id": "39bf6539",
   "metadata": {
    "ExecuteTime": {
     "end_time": "2024-05-20T00:42:11.585113Z",
     "start_time": "2024-05-20T00:42:10.069649Z"
    }
   },
   "source": [
    "len(os.listdir(image_path))"
   ],
   "outputs": [
    {
     "data": {
      "text/plain": [
       "100000"
      ]
     },
     "execution_count": 8,
     "metadata": {},
     "output_type": "execute_result"
    }
   ],
   "execution_count": 8
  },
  {
   "cell_type": "markdown",
   "id": "3d634824",
   "metadata": {},
   "source": [
    "### Find null values in labels"
   ]
  },
  {
   "cell_type": "code",
   "id": "57111851",
   "metadata": {
    "ExecuteTime": {
     "end_time": "2024-05-20T00:42:11.989019Z",
     "start_time": "2024-05-20T00:42:11.939290Z"
    }
   },
   "source": [
    "labels.isna().sum()"
   ],
   "outputs": [
    {
     "data": {
      "text/plain": [
       "0    6\n",
       "dtype: int64"
      ]
     },
     "execution_count": 9,
     "metadata": {},
     "output_type": "execute_result"
    }
   ],
   "execution_count": 9
  },
  {
   "cell_type": "code",
   "id": "37b4a17c",
   "metadata": {
    "ExecuteTime": {
     "end_time": "2024-05-20T00:42:12.746782Z",
     "start_time": "2024-05-20T00:42:12.710799Z"
    }
   },
   "source": [
    "labels[labels[0].isna()]"
   ],
   "outputs": [
    {
     "data": {
      "text/plain": [
       "         0\n",
       "17672  NaN\n",
       "19198  NaN\n",
       "33301  NaN\n",
       "57410  NaN\n",
       "74347  NaN\n",
       "77150  NaN"
      ],
      "text/html": [
       "<div>\n",
       "<style scoped>\n",
       "    .dataframe tbody tr th:only-of-type {\n",
       "        vertical-align: middle;\n",
       "    }\n",
       "\n",
       "    .dataframe tbody tr th {\n",
       "        vertical-align: top;\n",
       "    }\n",
       "\n",
       "    .dataframe thead th {\n",
       "        text-align: right;\n",
       "    }\n",
       "</style>\n",
       "<table border=\"1\" class=\"dataframe\">\n",
       "  <thead>\n",
       "    <tr style=\"text-align: right;\">\n",
       "      <th></th>\n",
       "      <th>0</th>\n",
       "    </tr>\n",
       "  </thead>\n",
       "  <tbody>\n",
       "    <tr>\n",
       "      <th>17672</th>\n",
       "      <td>NaN</td>\n",
       "    </tr>\n",
       "    <tr>\n",
       "      <th>19198</th>\n",
       "      <td>NaN</td>\n",
       "    </tr>\n",
       "    <tr>\n",
       "      <th>33301</th>\n",
       "      <td>NaN</td>\n",
       "    </tr>\n",
       "    <tr>\n",
       "      <th>57410</th>\n",
       "      <td>NaN</td>\n",
       "    </tr>\n",
       "    <tr>\n",
       "      <th>74347</th>\n",
       "      <td>NaN</td>\n",
       "    </tr>\n",
       "    <tr>\n",
       "      <th>77150</th>\n",
       "      <td>NaN</td>\n",
       "    </tr>\n",
       "  </tbody>\n",
       "</table>\n",
       "</div>"
      ]
     },
     "execution_count": 10,
     "metadata": {},
     "output_type": "execute_result"
    }
   ],
   "execution_count": 10
  },
  {
   "cell_type": "markdown",
   "id": "1bb89f7b",
   "metadata": {},
   "source": [
    "### Let's check those images"
   ]
  },
  {
   "cell_type": "code",
   "id": "fa7213b1",
   "metadata": {
    "ExecuteTime": {
     "end_time": "2024-05-20T00:42:13.365238Z",
     "start_time": "2024-05-20T00:42:13.135952Z"
    }
   },
   "source": [
    "img = plt.imread(os.path.join(image_path, \"00017672.jpg\"))\n",
    "plt.imshow(img)\n",
    "plt.show()"
   ],
   "outputs": [
    {
     "data": {
      "text/plain": [
       "<Figure size 640x480 with 1 Axes>"
      ],
      "image/png": "[encoded data removed]"
     },
     "metadata": {},
     "output_type": "display_data"
    }
   ],
   "execution_count": 11
  },
  {
   "cell_type": "code",
   "id": "3db4749e",
   "metadata": {
    "ExecuteTime": {
     "end_time": "2024-05-20T00:42:13.620120Z",
     "start_time": "2024-05-20T00:42:13.369223Z"
    }
   },
   "source": [
    "img = plt.imread(os.path.join(image_path, \"00074347.jpg\"))\n",
    "plt.imshow(img)\n",
    "plt.show()"
   ],
   "outputs": [
    {
     "data": {
      "text/plain": [
       "<Figure size 640x480 with 1 Axes>"
      ],
      "image/png": "[encoded data removed]"
     },
     "metadata": {},
     "output_type": "display_data"
    }
   ],
   "execution_count": 12
  },
  {
   "cell_type": "markdown",
   "id": "456aee06",
   "metadata": {},
   "source": [
    "### Replace those missing values with the string \"null\""
   ]
  },
  {
   "cell_type": "code",
   "id": "92b25504",
   "metadata": {
    "ExecuteTime": {
     "end_time": "2024-05-20T00:42:13.725570Z",
     "start_time": "2024-05-20T00:42:13.702387Z"
    }
   },
   "source": [
    "labels.fillna(\"null\", inplace=True)"
   ],
   "outputs": [],
   "execution_count": 13
  },
  {
   "cell_type": "markdown",
   "id": "f803d736",
   "metadata": {},
   "source": [
    "### Create a dataframe with image paths and corresponding labels"
   ]
  },
  {
   "cell_type": "code",
   "id": "421115fd",
   "metadata": {
    "ExecuteTime": {
     "end_time": "2024-05-20T00:42:14.957716Z",
     "start_time": "2024-05-20T00:42:14.220985Z"
    }
   },
   "source": [
    "image_files = os.listdir(image_path)\n",
    "image_files.sort()\n",
    "image_files = [os.path.join(image_path, i) for i in image_files]"
   ],
   "outputs": [],
   "execution_count": 14
  },
  {
   "cell_type": "code",
   "id": "05084f69",
   "metadata": {
    "ExecuteTime": {
     "end_time": "2024-05-20T00:42:15.695876Z",
     "start_time": "2024-05-20T00:42:15.259233Z"
    }
   },
   "source": [
    "data_file = pd.DataFrame({\"images\": image_files, \"labels\": labels[0]})\n",
    "data_file.to_csv(data_file_path, index=False)"
   ],
   "outputs": [],
   "execution_count": 15
  },
  {
   "cell_type": "code",
   "id": "12aa0fbe",
   "metadata": {
    "ExecuteTime": {
     "end_time": "2024-05-20T00:42:17.436477Z",
     "start_time": "2024-05-20T00:42:17.407537Z"
    }
   },
   "source": [
    "data_file.head()"
   ],
   "outputs": [
    {
     "data": {
      "text/plain": [
       "                     images   labels\n",
       "0  data/images\\00000000.jpg     life\n",
       "1  data/images\\00000001.jpg      not\n",
       "2  data/images\\00000002.jpg    while\n",
       "3  data/images\\00000003.jpg     know\n",
       "4  data/images\\00000004.jpg  clearly"
      ],
      "text/html": [
       "<div>\n",
       "<style scoped>\n",
       "    .dataframe tbody tr th:only-of-type {\n",
       "        vertical-align: middle;\n",
       "    }\n",
       "\n",
       "    .dataframe tbody tr th {\n",
       "        vertical-align: top;\n",
       "    }\n",
       "\n",
       "    .dataframe thead th {\n",
       "        text-align: right;\n",
       "    }\n",
       "</style>\n",
       "<table border=\"1\" class=\"dataframe\">\n",
       "  <thead>\n",
       "    <tr style=\"text-align: right;\">\n",
       "      <th></th>\n",
       "      <th>images</th>\n",
       "      <th>labels</th>\n",
       "    </tr>\n",
       "  </thead>\n",
       "  <tbody>\n",
       "    <tr>\n",
       "      <th>0</th>\n",
       "      <td>data/images\\00000000.jpg</td>\n",
       "      <td>life</td>\n",
       "    </tr>\n",
       "    <tr>\n",
       "      <th>1</th>\n",
       "      <td>data/images\\00000001.jpg</td>\n",
       "      <td>not</td>\n",
       "    </tr>\n",
       "    <tr>\n",
       "      <th>2</th>\n",
       "      <td>data/images\\00000002.jpg</td>\n",
       "      <td>while</td>\n",
       "    </tr>\n",
       "    <tr>\n",
       "      <th>3</th>\n",
       "      <td>data/images\\00000003.jpg</td>\n",
       "      <td>know</td>\n",
       "    </tr>\n",
       "    <tr>\n",
       "      <th>4</th>\n",
       "      <td>data/images\\00000004.jpg</td>\n",
       "      <td>clearly</td>\n",
       "    </tr>\n",
       "  </tbody>\n",
       "</table>\n",
       "</div>"
      ]
     },
     "execution_count": 16,
     "metadata": {},
     "output_type": "execute_result"
    }
   ],
   "execution_count": 16
  },
  {
   "cell_type": "code",
   "id": "82001d0f",
   "metadata": {
    "ExecuteTime": {
     "end_time": "2024-05-20T00:42:18.541184Z",
     "start_time": "2024-05-20T00:42:18.050094Z"
    }
   },
   "source": [
    "img = plt.imread(os.path.join(image_path, \"00000004.jpg\"))\n",
    "plt.imshow(img)\n",
    "plt.show()"
   ],
   "outputs": [
    {
     "data": {
      "text/plain": [
       "<Figure size 640x480 with 1 Axes>"
      ],
      "image/png": "[encoded data removed]"
     },
     "metadata": {},
     "output_type": "display_data"
    }
   ],
   "execution_count": 17
  },
  {
   "cell_type": "markdown",
   "id": "37810f1c",
   "metadata": {},
   "source": [
    "### Find the unique characters in the labels"
   ]
  },
  {
   "cell_type": "code",
   "id": "af2e7711",
   "metadata": {
    "ExecuteTime": {
     "end_time": "2024-05-20T00:42:18.719127Z",
     "start_time": "2024-05-20T00:42:18.552817Z"
    }
   },
   "source": [
    "unique_chars = list({l for word in labels[0] for l in word})\n",
    "unique_chars.sort()"
   ],
   "outputs": [],
   "execution_count": 18
  },
  {
   "cell_type": "code",
   "id": "6509d39f",
   "metadata": {
    "ExecuteTime": {
     "end_time": "2024-05-20T00:42:19.493509Z",
     "start_time": "2024-05-20T00:42:19.471170Z"
    }
   },
   "source": [
    "unique_chars"
   ],
   "outputs": [
    {
     "data": {
      "text/plain": [
       "['#',\n",
       " '$',\n",
       " '%',\n",
       " '&',\n",
       " \"'\",\n",
       " '(',\n",
       " ')',\n",
       " '*',\n",
       " '+',\n",
       " ',',\n",
       " '-',\n",
       " '.',\n",
       " '/',\n",
       " '0',\n",
       " '1',\n",
       " '2',\n",
       " '3',\n",
       " '4',\n",
       " '5',\n",
       " '6',\n",
       " '7',\n",
       " '8',\n",
       " '9',\n",
       " ':',\n",
       " ';',\n",
       " '<',\n",
       " '=',\n",
       " '>',\n",
       " '@',\n",
       " 'A',\n",
       " 'B',\n",
       " 'C',\n",
       " 'D',\n",
       " 'E',\n",
       " 'F',\n",
       " 'G',\n",
       " 'H',\n",
       " 'I',\n",
       " 'J',\n",
       " 'K',\n",
       " 'L',\n",
       " 'M',\n",
       " 'N',\n",
       " 'O',\n",
       " 'P',\n",
       " 'Q',\n",
       " 'R',\n",
       " 'S',\n",
       " 'T',\n",
       " 'U',\n",
       " 'V',\n",
       " 'W',\n",
       " 'X',\n",
       " 'Y',\n",
       " 'Z',\n",
       " 'a',\n",
       " 'b',\n",
       " 'c',\n",
       " 'd',\n",
       " 'e',\n",
       " 'f',\n",
       " 'g',\n",
       " 'h',\n",
       " 'i',\n",
       " 'j',\n",
       " 'k',\n",
       " 'l',\n",
       " 'm',\n",
       " 'n',\n",
       " 'o',\n",
       " 'p',\n",
       " 'q',\n",
       " 'r',\n",
       " 's',\n",
       " 't',\n",
       " 'u',\n",
       " 'v',\n",
       " 'w',\n",
       " 'x',\n",
       " 'y',\n",
       " 'z']"
      ]
     },
     "execution_count": 19,
     "metadata": {},
     "output_type": "execute_result"
    }
   ],
   "execution_count": 19
  },
  {
   "cell_type": "code",
   "id": "5772c151",
   "metadata": {
    "ExecuteTime": {
     "end_time": "2024-05-20T00:42:20.319152Z",
     "start_time": "2024-05-20T00:42:20.297591Z"
    }
   },
   "source": [
    "len(unique_chars)"
   ],
   "outputs": [
    {
     "data": {
      "text/plain": [
       "81"
      ]
     },
     "execution_count": 20,
     "metadata": {},
     "output_type": "execute_result"
    }
   ],
   "execution_count": 20
  },
  {
   "cell_type": "markdown",
   "id": "9402fd67",
   "metadata": {},
   "source": [
    "### Create mapping from characters to integer and integer to character and save them to disc"
   ]
  },
  {
   "cell_type": "code",
   "id": "e07f1ef6",
   "metadata": {
    "ExecuteTime": {
     "end_time": "2024-05-20T00:42:21.795038Z",
     "start_time": "2024-05-20T00:42:21.782802Z"
    }
   },
   "source": [
    "char2int = {a: i+1 for i, a in enumerate(unique_chars)}\n",
    "int2char = {i+1: a for i, a in enumerate(unique_chars)}"
   ],
   "outputs": [],
   "execution_count": 21
  },
  {
   "cell_type": "code",
   "id": "b2a00f70",
   "metadata": {
    "ExecuteTime": {
     "end_time": "2024-05-20T00:42:22.727478Z",
     "start_time": "2024-05-20T00:42:22.712749Z"
    }
   },
   "source": [
    "save_obj(char2int, char2int_path)\n",
    "save_obj(int2char, int2char_path)"
   ],
   "outputs": [],
   "execution_count": 22
  },
  {
   "cell_type": "markdown",
   "id": "b075cfc5",
   "metadata": {},
   "source": [
    "# Training the model"
   ]
  },
  {
   "cell_type": "code",
   "id": "6a52b397",
   "metadata": {
    "ExecuteTime": {
     "end_time": "2024-05-20T00:42:23.054996Z",
     "start_time": "2024-05-20T00:42:23.030617Z"
    }
   },
   "source": [
    "device = torch.device(\"cuda:0\" if torch.cuda.is_available() \n",
    "                      else \"cpu\")"
   ],
   "outputs": [],
   "execution_count": 23
  },
  {
   "cell_type": "markdown",
   "id": "156ae772",
   "metadata": {},
   "source": [
    "### Split the data into train and validation"
   ]
  },
  {
   "cell_type": "code",
   "id": "c26d50b5",
   "metadata": {
    "ExecuteTime": {
     "end_time": "2024-05-20T00:42:23.691661Z",
     "start_time": "2024-05-20T00:42:23.635437Z"
    }
   },
   "source": [
    "train_file, valid_file = train_test_split(data_file, test_size=0.2)"
   ],
   "outputs": [],
   "execution_count": 24
  },
  {
   "cell_type": "markdown",
   "id": "9ee43e0d",
   "metadata": {},
   "source": [
    "### Create train and validation datasets"
   ]
  },
  {
   "cell_type": "code",
   "id": "3ba8ead3",
   "metadata": {
    "ExecuteTime": {
     "end_time": "2024-05-20T00:42:24.529859Z",
     "start_time": "2024-05-20T00:42:24.250002Z"
    }
   },
   "source": [
    "train_dataset = TRSynthDataset(train_file, char2int)\n",
    "valid_dataset = TRSynthDataset(valid_file, char2int)"
   ],
   "outputs": [],
   "execution_count": 25
  },
  {
   "cell_type": "markdown",
   "id": "b8108f10",
   "metadata": {},
   "source": [
    "### Define the loss function"
   ]
  },
  {
   "cell_type": "code",
   "id": "c83ac4ab",
   "metadata": {
    "ExecuteTime": {
     "end_time": "2024-05-20T00:42:24.614158Z",
     "start_time": "2024-05-20T00:42:24.569899Z"
    }
   },
   "source": [
    "criterion = nn.CTCLoss(reduction=\"sum\")\n",
    "criterion.to(device)"
   ],
   "outputs": [
    {
     "data": {
      "text/plain": [
       "CTCLoss()"
      ]
     },
     "execution_count": 26,
     "metadata": {},
     "output_type": "execute_result"
    }
   ],
   "execution_count": 26
  },
  {
   "cell_type": "markdown",
   "id": "ecb45c4e",
   "metadata": {},
   "source": [
    "### Number of classes"
   ]
  },
  {
   "cell_type": "code",
   "id": "1f61b662",
   "metadata": {
    "ExecuteTime": {
     "end_time": "2024-05-20T00:42:25.252270Z",
     "start_time": "2024-05-20T00:42:25.239177Z"
    }
   },
   "source": [
    "n_classes = len(char2int)"
   ],
   "outputs": [],
   "execution_count": 27
  },
  {
   "cell_type": "markdown",
   "id": "eac16d69",
   "metadata": {},
   "source": [
    "### Create the model object"
   ]
  },
  {
   "cell_type": "code",
   "id": "09ce3f6c",
   "metadata": {
    "ExecuteTime": {
     "end_time": "2024-05-20T00:42:26.255061Z",
     "start_time": "2024-05-20T00:42:25.815904Z"
    }
   },
   "source": [
    "model = ConvRNN(n_classes)\n",
    "model.to(device)"
   ],
   "outputs": [
    {
     "data": {
      "text/plain": [
       "ConvRNN(\n",
       "  (relu): LeakyReLU(negative_slope=0.2, inplace=True)\n",
       "  (conv_1): Conv2d(3, 64, kernel_size=(3, 3), stride=(1, 1), padding=(1, 1))\n",
       "  (bn_1): BatchNorm2d(64, eps=1e-05, momentum=0.1, affine=True, track_running_stats=True)\n",
       "  (pool_1): MaxPool2d(kernel_size=(2, 2), stride=(2, 2), padding=0, dilation=1, ceil_mode=False)\n",
       "  (conv_2): Conv2d(64, 128, kernel_size=(3, 3), stride=(1, 1), padding=(1, 1))\n",
       "  (bn_2): BatchNorm2d(128, eps=1e-05, momentum=0.1, affine=True, track_running_stats=True)\n",
       "  (pool_2): MaxPool2d(kernel_size=(2, 2), stride=(2, 2), padding=0, dilation=1, ceil_mode=False)\n",
       "  (conv_3): Conv2d(128, 256, kernel_size=(3, 3), stride=(1, 1), padding=(1, 1))\n",
       "  (bn_3): BatchNorm2d(256, eps=1e-05, momentum=0.1, affine=True, track_running_stats=True)\n",
       "  (conv_4): Conv2d(256, 256, kernel_size=(3, 3), stride=(1, 1), padding=(1, 1))\n",
       "  (bn_4): BatchNorm2d(256, eps=1e-05, momentum=0.1, affine=True, track_running_stats=True)\n",
       "  (pool_4): MaxPool2d(kernel_size=(2, 1), stride=(2, 1), padding=0, dilation=1, ceil_mode=False)\n",
       "  (conv_5): Conv2d(256, 512, kernel_size=(3, 3), stride=(1, 1), padding=(1, 1))\n",
       "  (bn_5): BatchNorm2d(512, eps=1e-05, momentum=0.1, affine=True, track_running_stats=True)\n",
       "  (conv_6): Conv2d(512, 512, kernel_size=(3, 3), stride=(1, 1), padding=(1, 1))\n",
       "  (bn_6): BatchNorm2d(512, eps=1e-05, momentum=0.1, affine=True, track_running_stats=True)\n",
       "  (pool_6): MaxPool2d(kernel_size=(2, 1), stride=(2, 1), padding=0, dilation=1, ceil_mode=False)\n",
       "  (conv_7): Conv2d(512, 512, kernel_size=(3, 3), stride=(1, 1), padding=(1, 1))\n",
       "  (bn_7): BatchNorm2d(512, eps=1e-05, momentum=0.1, affine=True, track_running_stats=True)\n",
       "  (linear_1): Linear(in_features=1024, out_features=64, bias=True)\n",
       "  (linear_2): Linear(in_features=64, out_features=64, bias=True)\n",
       "  (rnn_1): GRU(64, 128, num_layers=2, batch_first=True, dropout=0.25, bidirectional=True)\n",
       "  (rnn_2): GRU(256, 64, num_layers=2, batch_first=True, dropout=0.25, bidirectional=True)\n",
       "  (dense): Linear(in_features=128, out_features=82, bias=True)\n",
       ")"
      ]
     },
     "execution_count": 28,
     "metadata": {},
     "output_type": "execute_result"
    }
   ],
   "execution_count": 28
  },
  {
   "cell_type": "markdown",
   "id": "699d3728",
   "metadata": {},
   "source": [
    "### Define Optimizer"
   ]
  },
  {
   "cell_type": "code",
   "id": "b9451856",
   "metadata": {
    "ExecuteTime": {
     "end_time": "2024-05-20T00:42:41.482701Z",
     "start_time": "2024-05-20T00:42:26.259959Z"
    }
   },
   "source": [
    "optimizer = torch.optim.RMSprop(model.parameters(), lr=0.0005)"
   ],
   "outputs": [],
   "execution_count": 29
  },
  {
   "cell_type": "markdown",
   "id": "e36dd6f8",
   "metadata": {},
   "source": [
    "### Define train and validation data loaders"
   ]
  },
  {
   "cell_type": "code",
   "id": "a33069a7",
   "metadata": {
    "ExecuteTime": {
     "end_time": "2024-05-20T00:42:41.506068Z",
     "start_time": "2024-05-20T00:42:41.489270Z"
    }
   },
   "source": [
    "train_loader = torch.utils.data.DataLoader(train_dataset,\n",
    "                                           batch_size=batch_size,\n",
    "                                           shuffle=True,\n",
    "                                           drop_last=True)\n",
    "\n",
    "valid_loader = torch.utils.data.DataLoader(valid_dataset,\n",
    "                                           batch_size=batch_size,\n",
    "                                           shuffle=False,\n",
    "                                           drop_last=False)"
   ],
   "outputs": [],
   "execution_count": 30
  },
  {
   "cell_type": "markdown",
   "id": "5925163b",
   "metadata": {},
   "source": [
    "### Training loop"
   ]
  },
  {
   "cell_type": "code",
   "id": "ac8d74cd",
   "metadata": {
    "ExecuteTime": {
     "end_time": "2024-05-20T00:11:44.107012Z",
     "start_time": "2024-05-20T00:11:44.099466Z"
    }
   },
   "source": [],
   "outputs": [],
   "execution_count": 75
  },
  {
   "cell_type": "code",
   "id": "ec635427",
   "metadata": {
    "ExecuteTime": {
     "end_time": "2024-05-20T00:12:14.565781Z",
     "start_time": "2024-05-20T00:11:44.774106Z"
    }
   },
   "source": [
    "for i in range(epochs):\n",
    "    print(f\"Epoch {i+1} of {epochs}...\")\n",
    "    # Run train function\n",
    "    train_loss = train(model, train_loader, criterion, device, optimizer, test=False)\n",
    "    # Run validation function\n",
    "    valid_loss = train(model, valid_loader, criterion, device, test=True)\n",
    "    print(f\"Train Loss: {round(train_loss,4)}, Valid Loss: {round(valid_loss,4)}\")\n",
    "    # if valid_loss < best_loss:\n",
    "    #     print(\"Validation Loss improved, saving Model File...\")\n",
    "    #     # Save model object\n",
    "    #     torch.save(model.state_dict(), model_path)\n",
    "    #     best_loss = valid_loss"
   ],
   "outputs": [
    {
     "name": "stdout",
     "output_type": "stream",
     "text": [
      "Epoch 1 of 100...\n"
     ]
    },
    {
     "name": "stderr",
     "output_type": "stream",
     "text": [
      "  0%|          | 2/2500 [00:24<8:29:51, 12.25s/it]\n"
     ]
    },
    {
     "ename": "KeyboardInterrupt",
     "evalue": "",
     "output_type": "error",
     "traceback": [
      "\u001B[1;31m---------------------------------------------------------------------------\u001B[0m",
      "\u001B[1;31mKeyboardInterrupt\u001B[0m                         Traceback (most recent call last)",
      "Cell \u001B[1;32mIn[76], line 4\u001B[0m\n\u001B[0;32m      2\u001B[0m \u001B[38;5;28mprint\u001B[39m(\u001B[38;5;124mf\u001B[39m\u001B[38;5;124m\"\u001B[39m\u001B[38;5;124mEpoch \u001B[39m\u001B[38;5;132;01m{\u001B[39;00mi\u001B[38;5;241m+\u001B[39m\u001B[38;5;241m1\u001B[39m\u001B[38;5;132;01m}\u001B[39;00m\u001B[38;5;124m of \u001B[39m\u001B[38;5;132;01m{\u001B[39;00mepochs\u001B[38;5;132;01m}\u001B[39;00m\u001B[38;5;124m...\u001B[39m\u001B[38;5;124m\"\u001B[39m)\n\u001B[0;32m      3\u001B[0m \u001B[38;5;66;03m# Run train function\u001B[39;00m\n\u001B[1;32m----> 4\u001B[0m train_loss \u001B[38;5;241m=\u001B[39m \u001B[43mtrain\u001B[49m\u001B[43m(\u001B[49m\u001B[43mmodel\u001B[49m\u001B[43m,\u001B[49m\u001B[43m \u001B[49m\u001B[43mtrain_loader\u001B[49m\u001B[43m,\u001B[49m\u001B[43m \u001B[49m\u001B[43mcriterion\u001B[49m\u001B[43m,\u001B[49m\u001B[43m \u001B[49m\u001B[43mdevice\u001B[49m\u001B[43m,\u001B[49m\u001B[43m \u001B[49m\u001B[43moptimizer\u001B[49m\u001B[43m,\u001B[49m\u001B[43m \u001B[49m\u001B[43mtest\u001B[49m\u001B[38;5;241;43m=\u001B[39;49m\u001B[38;5;28;43;01mFalse\u001B[39;49;00m\u001B[43m)\u001B[49m\n\u001B[0;32m      5\u001B[0m \u001B[38;5;66;03m# Run validation function\u001B[39;00m\n\u001B[0;32m      6\u001B[0m valid_loss \u001B[38;5;241m=\u001B[39m train(model, valid_loader, criterion, device, test\u001B[38;5;241m=\u001B[39m\u001B[38;5;28;01mTrue\u001B[39;00m)\n",
      "File \u001B[1;32mE:\\Deep Learning Project\\train.py:51\u001B[0m, in \u001B[0;36mtrain\u001B[1;34m(model, dataloader, criterion, device, optimizer, test)\u001B[0m\n\u001B[0;32m     48\u001B[0m \u001B[38;5;28;01mif\u001B[39;00m \u001B[38;5;129;01mnot\u001B[39;00m test:\n\u001B[0;32m     49\u001B[0m     \u001B[38;5;66;03m# Update weights during training\u001B[39;00m\n\u001B[0;32m     50\u001B[0m     optimizer\u001B[38;5;241m.\u001B[39mzero_grad()\n\u001B[1;32m---> 51\u001B[0m     \u001B[43mloss_\u001B[49m\u001B[38;5;241;43m.\u001B[39;49m\u001B[43mbackward\u001B[49m\u001B[43m(\u001B[49m\u001B[43m)\u001B[49m\n\u001B[0;32m     52\u001B[0m     optimizer\u001B[38;5;241m.\u001B[39mstep()\n\u001B[0;32m     54\u001B[0m loss\u001B[38;5;241m.\u001B[39mappend(loss_\u001B[38;5;241m.\u001B[39mitem())\n",
      "File \u001B[1;32mE:\\Deep Learning Project\\.venv\\Lib\\site-packages\\torch\\_tensor.py:525\u001B[0m, in \u001B[0;36mTensor.backward\u001B[1;34m(self, gradient, retain_graph, create_graph, inputs)\u001B[0m\n\u001B[0;32m    515\u001B[0m \u001B[38;5;28;01mif\u001B[39;00m has_torch_function_unary(\u001B[38;5;28mself\u001B[39m):\n\u001B[0;32m    516\u001B[0m     \u001B[38;5;28;01mreturn\u001B[39;00m handle_torch_function(\n\u001B[0;32m    517\u001B[0m         Tensor\u001B[38;5;241m.\u001B[39mbackward,\n\u001B[0;32m    518\u001B[0m         (\u001B[38;5;28mself\u001B[39m,),\n\u001B[1;32m   (...)\u001B[0m\n\u001B[0;32m    523\u001B[0m         inputs\u001B[38;5;241m=\u001B[39minputs,\n\u001B[0;32m    524\u001B[0m     )\n\u001B[1;32m--> 525\u001B[0m \u001B[43mtorch\u001B[49m\u001B[38;5;241;43m.\u001B[39;49m\u001B[43mautograd\u001B[49m\u001B[38;5;241;43m.\u001B[39;49m\u001B[43mbackward\u001B[49m\u001B[43m(\u001B[49m\n\u001B[0;32m    526\u001B[0m \u001B[43m    \u001B[49m\u001B[38;5;28;43mself\u001B[39;49m\u001B[43m,\u001B[49m\u001B[43m \u001B[49m\u001B[43mgradient\u001B[49m\u001B[43m,\u001B[49m\u001B[43m \u001B[49m\u001B[43mretain_graph\u001B[49m\u001B[43m,\u001B[49m\u001B[43m \u001B[49m\u001B[43mcreate_graph\u001B[49m\u001B[43m,\u001B[49m\u001B[43m \u001B[49m\u001B[43minputs\u001B[49m\u001B[38;5;241;43m=\u001B[39;49m\u001B[43minputs\u001B[49m\n\u001B[0;32m    527\u001B[0m \u001B[43m\u001B[49m\u001B[43m)\u001B[49m\n",
      "File \u001B[1;32mE:\\Deep Learning Project\\.venv\\Lib\\site-packages\\torch\\autograd\\__init__.py:267\u001B[0m, in \u001B[0;36mbackward\u001B[1;34m(tensors, grad_tensors, retain_graph, create_graph, grad_variables, inputs)\u001B[0m\n\u001B[0;32m    262\u001B[0m     retain_graph \u001B[38;5;241m=\u001B[39m create_graph\n\u001B[0;32m    264\u001B[0m \u001B[38;5;66;03m# The reason we repeat the same comment below is that\u001B[39;00m\n\u001B[0;32m    265\u001B[0m \u001B[38;5;66;03m# some Python versions print out the first line of a multi-line function\u001B[39;00m\n\u001B[0;32m    266\u001B[0m \u001B[38;5;66;03m# calls in the traceback and some print out the last line\u001B[39;00m\n\u001B[1;32m--> 267\u001B[0m \u001B[43m_engine_run_backward\u001B[49m\u001B[43m(\u001B[49m\n\u001B[0;32m    268\u001B[0m \u001B[43m    \u001B[49m\u001B[43mtensors\u001B[49m\u001B[43m,\u001B[49m\n\u001B[0;32m    269\u001B[0m \u001B[43m    \u001B[49m\u001B[43mgrad_tensors_\u001B[49m\u001B[43m,\u001B[49m\n\u001B[0;32m    270\u001B[0m \u001B[43m    \u001B[49m\u001B[43mretain_graph\u001B[49m\u001B[43m,\u001B[49m\n\u001B[0;32m    271\u001B[0m \u001B[43m    \u001B[49m\u001B[43mcreate_graph\u001B[49m\u001B[43m,\u001B[49m\n\u001B[0;32m    272\u001B[0m \u001B[43m    \u001B[49m\u001B[43minputs\u001B[49m\u001B[43m,\u001B[49m\n\u001B[0;32m    273\u001B[0m \u001B[43m    \u001B[49m\u001B[43mallow_unreachable\u001B[49m\u001B[38;5;241;43m=\u001B[39;49m\u001B[38;5;28;43;01mTrue\u001B[39;49;00m\u001B[43m,\u001B[49m\n\u001B[0;32m    274\u001B[0m \u001B[43m    \u001B[49m\u001B[43maccumulate_grad\u001B[49m\u001B[38;5;241;43m=\u001B[39;49m\u001B[38;5;28;43;01mTrue\u001B[39;49;00m\u001B[43m,\u001B[49m\n\u001B[0;32m    275\u001B[0m \u001B[43m\u001B[49m\u001B[43m)\u001B[49m\n",
      "File \u001B[1;32mE:\\Deep Learning Project\\.venv\\Lib\\site-packages\\torch\\autograd\\graph.py:744\u001B[0m, in \u001B[0;36m_engine_run_backward\u001B[1;34m(t_outputs, *args, **kwargs)\u001B[0m\n\u001B[0;32m    742\u001B[0m     unregister_hooks \u001B[38;5;241m=\u001B[39m _register_logging_hooks_on_whole_graph(t_outputs)\n\u001B[0;32m    743\u001B[0m \u001B[38;5;28;01mtry\u001B[39;00m:\n\u001B[1;32m--> 744\u001B[0m     \u001B[38;5;28;01mreturn\u001B[39;00m \u001B[43mVariable\u001B[49m\u001B[38;5;241;43m.\u001B[39;49m\u001B[43m_execution_engine\u001B[49m\u001B[38;5;241;43m.\u001B[39;49m\u001B[43mrun_backward\u001B[49m\u001B[43m(\u001B[49m\u001B[43m  \u001B[49m\u001B[38;5;66;43;03m# Calls into the C++ engine to run the backward pass\u001B[39;49;00m\n\u001B[0;32m    745\u001B[0m \u001B[43m        \u001B[49m\u001B[43mt_outputs\u001B[49m\u001B[43m,\u001B[49m\u001B[43m \u001B[49m\u001B[38;5;241;43m*\u001B[39;49m\u001B[43margs\u001B[49m\u001B[43m,\u001B[49m\u001B[43m \u001B[49m\u001B[38;5;241;43m*\u001B[39;49m\u001B[38;5;241;43m*\u001B[39;49m\u001B[43mkwargs\u001B[49m\n\u001B[0;32m    746\u001B[0m \u001B[43m    \u001B[49m\u001B[43m)\u001B[49m  \u001B[38;5;66;03m# Calls into the C++ engine to run the backward pass\u001B[39;00m\n\u001B[0;32m    747\u001B[0m \u001B[38;5;28;01mfinally\u001B[39;00m:\n\u001B[0;32m    748\u001B[0m     \u001B[38;5;28;01mif\u001B[39;00m attach_logging_hooks:\n",
      "\u001B[1;31mKeyboardInterrupt\u001B[0m: "
     ]
    }
   ],
   "execution_count": 76
  },
  {
   "cell_type": "markdown",
   "id": "76a3aae6",
   "metadata": {},
   "source": [
    "### Load the trained model"
   ]
  },
  {
   "cell_type": "code",
   "id": "d2661734",
   "metadata": {
    "ExecuteTime": {
     "end_time": "2024-05-20T00:53:15.566023Z",
     "start_time": "2024-05-20T00:53:09.604329Z"
    }
   },
   "source": [
    "model = ConvRNN(n_classes)\n",
    "model.load_state_dict(torch.load(model_path, \n",
    "                                map_location=torch.device('cpu')))\n",
    "\n",
    "# Set model mode to evaluation\n",
    "model.eval()"
   ],
   "outputs": [
    {
     "data": {
      "text/plain": [
       "ConvRNN(\n",
       "  (relu): LeakyReLU(negative_slope=0.2, inplace=True)\n",
       "  (conv_1): Conv2d(3, 64, kernel_size=(3, 3), stride=(1, 1), padding=(1, 1))\n",
       "  (bn_1): BatchNorm2d(64, eps=1e-05, momentum=0.1, affine=True, track_running_stats=True)\n",
       "  (pool_1): MaxPool2d(kernel_size=(2, 2), stride=(2, 2), padding=0, dilation=1, ceil_mode=False)\n",
       "  (conv_2): Conv2d(64, 128, kernel_size=(3, 3), stride=(1, 1), padding=(1, 1))\n",
       "  (bn_2): BatchNorm2d(128, eps=1e-05, momentum=0.1, affine=True, track_running_stats=True)\n",
       "  (pool_2): MaxPool2d(kernel_size=(2, 2), stride=(2, 2), padding=0, dilation=1, ceil_mode=False)\n",
       "  (conv_3): Conv2d(128, 256, kernel_size=(3, 3), stride=(1, 1), padding=(1, 1))\n",
       "  (bn_3): BatchNorm2d(256, eps=1e-05, momentum=0.1, affine=True, track_running_stats=True)\n",
       "  (conv_4): Conv2d(256, 256, kernel_size=(3, 3), stride=(1, 1), padding=(1, 1))\n",
       "  (bn_4): BatchNorm2d(256, eps=1e-05, momentum=0.1, affine=True, track_running_stats=True)\n",
       "  (pool_4): MaxPool2d(kernel_size=(2, 1), stride=(2, 1), padding=0, dilation=1, ceil_mode=False)\n",
       "  (conv_5): Conv2d(256, 512, kernel_size=(3, 3), stride=(1, 1), padding=(1, 1))\n",
       "  (bn_5): BatchNorm2d(512, eps=1e-05, momentum=0.1, affine=True, track_running_stats=True)\n",
       "  (conv_6): Conv2d(512, 512, kernel_size=(3, 3), stride=(1, 1), padding=(1, 1))\n",
       "  (bn_6): BatchNorm2d(512, eps=1e-05, momentum=0.1, affine=True, track_running_stats=True)\n",
       "  (pool_6): MaxPool2d(kernel_size=(2, 1), stride=(2, 1), padding=0, dilation=1, ceil_mode=False)\n",
       "  (conv_7): Conv2d(512, 512, kernel_size=(3, 3), stride=(1, 1), padding=(1, 1))\n",
       "  (bn_7): BatchNorm2d(512, eps=1e-05, momentum=0.1, affine=True, track_running_stats=True)\n",
       "  (linear_1): Linear(in_features=1024, out_features=64, bias=True)\n",
       "  (linear_2): Linear(in_features=64, out_features=64, bias=True)\n",
       "  (rnn_1): GRU(64, 128, num_layers=2, batch_first=True, dropout=0.25, bidirectional=True)\n",
       "  (rnn_2): GRU(256, 64, num_layers=2, batch_first=True, dropout=0.25, bidirectional=True)\n",
       "  (dense): Linear(in_features=128, out_features=82, bias=True)\n",
       ")"
      ]
     },
     "execution_count": 31,
     "metadata": {},
     "output_type": "execute_result"
    }
   ],
   "execution_count": 31
  },
  {
   "cell_type": "markdown",
   "id": "919b7c24",
   "metadata": {},
   "source": [
    "# Prediction"
   ]
  },
  {
   "cell_type": "markdown",
   "id": "472aca06",
   "metadata": {},
   "source": [
    "### Pick a test image"
   ]
  },
  {
   "cell_type": "code",
   "id": "d222e9ba",
   "metadata": {
    "ExecuteTime": {
     "end_time": "2024-05-20T01:12:17.461096Z",
     "start_time": "2024-05-20T01:12:17.296798Z"
    }
   },
   "source": [
    "test_img = os.path.join(image_path, \"B3.jpg\")\n",
    "img = cv2.imread(test_img)"
   ],
   "outputs": [],
   "execution_count": 108
  },
  {
   "cell_type": "code",
   "id": "763f6de1",
   "metadata": {
    "ExecuteTime": {
     "end_time": "2024-05-20T01:12:29.478545Z",
     "start_time": "2024-05-20T01:12:20.589829Z"
    }
   },
   "source": [
    "plt.imshow(plt.imread(test_img))\n",
    "plt.show()"
   ],
   "outputs": [
    {
     "data": {
      "text/plain": [
       "<Figure size 640x480 with 1 Axes>"
      ],
      "image/png": "[encoded data removed]"
     },
     "metadata": {},
     "output_type": "display_data"
    }
   ],
   "execution_count": 109
  },
  {
   "cell_type": "markdown",
   "id": "23988bb9",
   "metadata": {},
   "source": [
    "### Apply augmentations"
   ]
  },
  {
   "cell_type": "code",
   "id": "2d8201cd",
   "metadata": {
    "ExecuteTime": {
     "end_time": "2024-05-20T01:12:35.193754Z",
     "start_time": "2024-05-20T01:12:35.172996Z"
    }
   },
   "source": [
    "mean = (0.485, 0.456, 0.406)\n",
    "std = (0.229, 0.224, 0.225)\n",
    "img_aug = albumentations.Compose(\n",
    "        [albumentations.Normalize(mean, std,\n",
    "                                  max_pixel_value=255.0,\n",
    "                                  always_apply=True)]\n",
    "    )\n",
    "augmented = img_aug(image=img)\n",
    "img = augmented[\"image\"]\n",
    "img = img.transpose(2, 0, 1)\n",
    "img = torch.from_numpy(img)\n",
    "# Create batch dimension (batch of single image)\n",
    "img = torch.unsqueeze(img, 0)\n",
    "# Move the image array to CUDA if available\n",
    "img = img.to(device)"
   ],
   "outputs": [],
   "execution_count": 110
  },
  {
   "cell_type": "markdown",
   "id": "14686e1f",
   "metadata": {},
   "source": [
    "### Take model output"
   ]
  },
  {
   "cell_type": "code",
   "id": "35427453",
   "metadata": {
    "ExecuteTime": {
     "end_time": "2024-05-20T01:12:38.183675Z",
     "start_time": "2024-05-20T01:12:37.168837Z"
    }
   },
   "source": [
    "out = model(img)"
   ],
   "outputs": [],
   "execution_count": 111
  },
  {
   "cell_type": "markdown",
   "id": "6f137d97",
   "metadata": {},
   "source": [
    "### Apply softmax and take label predictions"
   ]
  },
  {
   "cell_type": "code",
   "id": "0b3fd42f",
   "metadata": {
    "ExecuteTime": {
     "end_time": "2024-05-20T01:12:39.100041Z",
     "start_time": "2024-05-20T01:12:39.086095Z"
    }
   },
   "source": [
    "out = torch.squeeze(out, 0)\n",
    "out = out.softmax(1)\n",
    "pred = torch.argmax(out, 1)"
   ],
   "outputs": [],
   "execution_count": 112
  },
  {
   "cell_type": "code",
   "id": "fbb549d0",
   "metadata": {
    "ExecuteTime": {
     "end_time": "2024-05-20T01:12:40.091265Z",
     "start_time": "2024-05-20T01:12:40.074861Z"
    }
   },
   "source": [
    "pred.shape"
   ],
   "outputs": [
    {
     "data": {
      "text/plain": [
       "torch.Size([40])"
      ]
     },
     "execution_count": 113,
     "metadata": {},
     "output_type": "execute_result"
    }
   ],
   "execution_count": 113
  },
  {
   "cell_type": "code",
   "id": "0cf2c4d4",
   "metadata": {
    "ExecuteTime": {
     "end_time": "2024-05-20T01:12:41.260168Z",
     "start_time": "2024-05-20T01:12:41.252342Z"
    }
   },
   "source": [
    "pred = pred.tolist()"
   ],
   "outputs": [],
   "execution_count": 114
  },
  {
   "cell_type": "code",
   "id": "ae45a1d4",
   "metadata": {
    "ExecuteTime": {
     "end_time": "2024-05-20T01:12:42.428836Z",
     "start_time": "2024-05-20T01:12:42.412594Z"
    }
   },
   "source": [
    "pred"
   ],
   "outputs": [
    {
     "data": {
      "text/plain": [
       "[0,\n",
       " 0,\n",
       " 0,\n",
       " 0,\n",
       " 31,\n",
       " 0,\n",
       " 0,\n",
       " 0,\n",
       " 64,\n",
       " 0,\n",
       " 0,\n",
       " 0,\n",
       " 74,\n",
       " 0,\n",
       " 0,\n",
       " 0,\n",
       " 0,\n",
       " 69,\n",
       " 0,\n",
       " 69,\n",
       " 0,\n",
       " 0,\n",
       " 0,\n",
       " 0,\n",
       " 30,\n",
       " 0,\n",
       " 0,\n",
       " 0,\n",
       " 0,\n",
       " 0,\n",
       " 0,\n",
       " 0,\n",
       " 15,\n",
       " 0,\n",
       " 0,\n",
       " 0,\n",
       " 0,\n",
       " 16,\n",
       " 0,\n",
       " 0]"
      ]
     },
     "execution_count": 115,
     "metadata": {},
     "output_type": "execute_result"
    }
   ],
   "execution_count": 115
  },
  {
   "cell_type": "code",
   "id": "97b8571e",
   "metadata": {
    "ExecuteTime": {
     "end_time": "2024-05-20T01:12:43.404342Z",
     "start_time": "2024-05-20T01:12:43.382678Z"
    }
   },
   "source": "int2char[56]",
   "outputs": [
    {
     "data": {
      "text/plain": [
       "'a'"
      ]
     },
     "execution_count": 116,
     "metadata": {},
     "output_type": "execute_result"
    }
   ],
   "execution_count": 116
  },
  {
   "cell_type": "markdown",
   "id": "7256b419",
   "metadata": {},
   "source": [
    "### Use 'ph' for special character"
   ]
  },
  {
   "cell_type": "code",
   "id": "edc4033e",
   "metadata": {
    "ExecuteTime": {
     "end_time": "2024-05-20T01:12:45.730081Z",
     "start_time": "2024-05-20T01:12:45.710124Z"
    }
   },
   "source": [
    "int2char[0] = \"ph\""
   ],
   "outputs": [],
   "execution_count": 117
  },
  {
   "cell_type": "markdown",
   "id": "97aa70ad",
   "metadata": {},
   "source": [
    "### Convert integer predictions to string"
   ]
  },
  {
   "cell_type": "code",
   "id": "f3aa5192",
   "metadata": {
    "ExecuteTime": {
     "end_time": "2024-05-20T01:12:47.483226Z",
     "start_time": "2024-05-20T01:12:47.416741Z"
    }
   },
   "source": [
    "out = [int2char[i] for i in pred]"
   ],
   "outputs": [],
   "execution_count": 118
  },
  {
   "cell_type": "code",
   "id": "aa5cca0b",
   "metadata": {
    "ExecuteTime": {
     "end_time": "2024-05-20T01:12:48.287750Z",
     "start_time": "2024-05-20T01:12:48.266308Z"
    }
   },
   "source": [
    "out"
   ],
   "outputs": [
    {
     "data": {
      "text/plain": [
       "['ph',\n",
       " 'ph',\n",
       " 'ph',\n",
       " 'ph',\n",
       " 'B',\n",
       " 'ph',\n",
       " 'ph',\n",
       " 'ph',\n",
       " 'i',\n",
       " 'ph',\n",
       " 'ph',\n",
       " 'ph',\n",
       " 's',\n",
       " 'ph',\n",
       " 'ph',\n",
       " 'ph',\n",
       " 'ph',\n",
       " 'n',\n",
       " 'ph',\n",
       " 'n',\n",
       " 'ph',\n",
       " 'ph',\n",
       " 'ph',\n",
       " 'ph',\n",
       " 'A',\n",
       " 'ph',\n",
       " 'ph',\n",
       " 'ph',\n",
       " 'ph',\n",
       " 'ph',\n",
       " 'ph',\n",
       " 'ph',\n",
       " '1',\n",
       " 'ph',\n",
       " 'ph',\n",
       " 'ph',\n",
       " 'ph',\n",
       " '2',\n",
       " 'ph',\n",
       " 'ph']"
      ]
     },
     "execution_count": 119,
     "metadata": {},
     "output_type": "execute_result"
    }
   ],
   "execution_count": 119
  },
  {
   "cell_type": "markdown",
   "id": "1c116074",
   "metadata": {},
   "source": [
    "### Collapse the output"
   ]
  },
  {
   "cell_type": "code",
   "id": "7c443674",
   "metadata": {
    "ExecuteTime": {
     "end_time": "2024-05-20T01:12:51.295940Z",
     "start_time": "2024-05-20T01:12:51.276623Z"
    }
   },
   "source": [
    "res = list()\n",
    "res.append(out[0])\n",
    "for i in range(1, len(out)):\n",
    "    if out[i] != out[i - 1]:\n",
    "        res.append(out[i])\n",
    "res = [i for i in res if i != \"ph\"]\n",
    "res = \"\".join(res)"
   ],
   "outputs": [],
   "execution_count": 120
  },
  {
   "cell_type": "code",
   "id": "3297b97d",
   "metadata": {
    "ExecuteTime": {
     "end_time": "2024-05-20T01:12:53.884395Z",
     "start_time": "2024-05-20T01:12:53.870952Z"
    }
   },
   "source": [
    "print(res)"
   ],
   "outputs": [
    {
     "name": "stdout",
     "output_type": "stream",
     "text": [
      "BisnnA12\n"
     ]
    }
   ],
   "execution_count": 121
  },
  {
   "cell_type": "code",
   "id": "8dcc5fae",
   "metadata": {
    "ExecuteTime": {
     "end_time": "2024-05-11T13:59:41.763947Z",
     "start_time": "2024-05-11T13:59:41.756931Z"
    }
   },
   "source": [],
   "outputs": [],
   "execution_count": 175
  },
  {
   "metadata": {
    "ExecuteTime": {
     "end_time": "2024-05-11T13:59:41.952880Z",
     "start_time": "2024-05-11T13:59:41.947994Z"
    }
   },
   "cell_type": "code",
   "source": "",
   "id": "d22b828c55a85f92",
   "outputs": [],
   "execution_count": 175
  },
  {
   "metadata": {},
   "cell_type": "code",
   "outputs": [],
   "execution_count": null,
   "source": "",
   "id": "c319dd0e869c050d"
  }
 ],
 "metadata": {
  "kernelspec": {
   "display_name": "Python 3",
   "language": "python",
   "name": "python3"
  },
  "language_info": {
   "codemirror_mode": {
    "name": "ipython",
    "version": 3
   },
   "file_extension": ".py",
   "mimetype": "text/x-python",
   "name": "python",
   "nbconvert_exporter": "python",
   "pygments_lexer": "ipython3",
   "version": "3.8.8"
  }
 },
 "nbformat": 4,
 "nbformat_minor": 5
}
